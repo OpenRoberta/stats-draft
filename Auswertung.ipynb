{
 "cells": [
  {
   "cell_type": "code",
   "execution_count": 25,
   "metadata": {},
   "outputs": [
    {
     "name": "stdout",
     "output_type": "stream",
     "text": [
      "Anzahl Elemente:718612\n",
      "Simulations: 410088\n"
     ]
    }
   ],
   "source": [
    "import ast\n",
    "with open(\"stat-2019-06_clean.txt\",\"r\") as data_file:\n",
    "    elements = 0\n",
    "    simulations = 0\n",
    "    robot_names = [\"\"]\n",
    "    for line in data_file:\n",
    "        elements += 1\n",
    "        json_line = ast.literal_eval(line)\n",
    "        a = json_line[\"message\"]\n",
    "        \n",
    "        if type(a) is dict and a[\"action\"]:\n",
    "            if a[\"action\"] == \"SimulationRun\":\n",
    "                simulations += 1\n",
    "    print (\"Anzahl Elemente:\" + str(elements))\n",
    "    print (\"Simulations: \"+str(simulations))"
   ]
  },
  {
   "cell_type": "code",
   "execution_count": null,
   "metadata": {},
   "outputs": [],
   "source": []
  }
 ],
 "metadata": {
  "kernelspec": {
   "display_name": "Python 3",
   "language": "python",
   "name": "python3"
  },
  "language_info": {
   "codemirror_mode": {
    "name": "ipython",
    "version": 3
   },
   "file_extension": ".py",
   "mimetype": "text/x-python",
   "name": "python",
   "nbconvert_exporter": "python",
   "pygments_lexer": "ipython3",
   "version": "3.6.8"
  }
 },
 "nbformat": 4,
 "nbformat_minor": 2
}
