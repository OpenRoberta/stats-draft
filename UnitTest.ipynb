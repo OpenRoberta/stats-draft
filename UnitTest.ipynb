{
 "cells": [
  {
   "cell_type": "code",
   "execution_count": 18,
   "metadata": {},
   "outputs": [],
   "source": [
    "import unittest\n",
    "import Scriptohnedoc as fun"
   ]
  },
  {
   "cell_type": "code",
   "execution_count": 34,
   "metadata": {},
   "outputs": [],
   "source": [
    "comp_stat_error_dict_result={\"Das ist ein Fehler\":[{\"time\":\"2019-07-01 00:00:01,000\", \"sessionId\":\"29371\", \"robotName\":\"ev3lejosv1\", \"logLevel\":\"INFO\", \"message\":\"Das ist ein Fehler\"},{\"time\":\"2019-07-03 00:00:00,999\", \"sessionId\":\"29373\", \"robotName\":\"ev3lejosv1\", \"logLevel\":\"INFO\", \"message\":\"Das ist 3in Fehler\"}],\"Das sind mehreree Fehler hier oder\":[{\"time\":\"2019-07-02 00:00:01,000\", \"sessionId\":\"29372\", \"robotName\":\"ev3lejosv1\", \"logLevel\":\"INFO\", \"message\":\"Das sind mehreree Fehler hier oder\"}]}\n",
    "stat_error_dict_result={\"Das ist ein Fehler\":[{\"time\":\"2019-07-01 00:00:01,000\", \"sessionId\":\"29371\", \"robotName\":\"ev3lejosv1\", \"logLevel\":\"INFO\", \"message\":\"Das ist ein Fehler\"}],\"Das sind mehreree Fehler hier oder\":[{\"time\":\"2019-07-02 00:00:01,000\", \"sessionId\":\"29372\", \"robotName\":\"ev3lejosv1\", \"logLevel\":\"INFO\", \"message\":\"Das sind mehreree Fehler hier oder\"}],\"Das ist 3in Fehler\":[{\"time\":\"2019-07-03 00:00:00,999\", \"sessionId\":\"29373\", \"robotName\":\"ev3lejosv1\", \"logLevel\":\"INFO\", \"message\":\"Das ist 3in Fehler\"}]}\n",
    "json_list_fehler=[{\"time\":\"2019-07-03 00:00:00,999\", \"sessionId\":\"29373\", \"robotName\":\"ev3lejosv1\", \"logLevel\":\"INFO\", \"message\":\"Das ist 3in Fehler\"},{\"time\":\"2019-07-02 00:00:01,000\", \"sessionId\":\"29372\", \"robotName\":\"ev3lejosv1\", \"logLevel\":\"INFO\", \"message\":\"Das sind mehreree Fehler hier oder\"},{\"time\":\"2019-07-01 00:00:01,000\", \"sessionId\":\"29371\", \"robotName\":\"ev3lejosv1\", \"logLevel\":\"INFO\", \"message\":\"Das ist ein Fehler\"}]\n",
    "comp_list_actions_result=[\"RoboConnect\",\"NewStart\",\"Hola\",\"ProgramRun\",\"SimulationRun\"]\n",
    "json_list_actions=[{\"time\":\"2019-07-05 00:00:00,000\", \"sessionId\":\"29375\", \"robotName\":\"ev3lejosv1\", \"logLevel\":\"INFO\", \"message\":{\"action\":\"RoboConnect\",\"args\":[{\"LoggedIn\":\"false\"}]}},{\"time\":\"2019-07-04 00:00:01,001\", \"sessionId\":\"29374\", \"robotName\":\"ev3lejosv1\", \"logLevel\":\"INFO\", \"message\":{\"action\":\"NewStart\",\"args\":[{\"LoggedIn\":\"false\"}]}},{\"time\":\"2019-07-03 00:00:00,999\", \"sessionId\":\"29373\", \"robotName\":\"ev3lejosv1\", \"logLevel\":\"INFO\", \"message\":{\"action\":\"Hola\",\"args\":[{\"LoggedIn\":\"false\"}]}},{\"time\":\"2019-07-02 00:00:01,000\", \"sessionId\":\"29372\", \"robotName\":\"ev3lejosv1\", \"logLevel\":\"INFO\", \"message\":{\"action\":\"ProgramRun\",\"args\":[{\"LoggedIn\":\"false\"}]}},{\"time\":\"2019-07-01 00:00:01,000\", \"sessionId\":\"29371\", \"robotName\":\"ev3lejosv1\", \"logLevel\":\"INFO\", \"message\":{\"action\":\"SimulationRun\",\"args\":[{\"LoggedIn\":\"false\"}]}}]\n",
    "json_list_user=[{\"time\":\"2019-07-03 00:00:02,999\", \"sessionId\":\"29372\", \"robotName\":\"ev3dev\", \"logLevel\":\"INFO\", \"message\":{\"action\":\"SimulationRun\",\"args\":[{\"LoggedIn\":\"false\"}]}},{\"time\":\"2019-07-03 00:10:02,999\", \"sessionId\":\"29372\", \"robotName\":\"ev3dev\", \"logLevel\":\"INFO\", \"message\":{\"action\":\"SimulationRun\",\"args\":[{\"LoggedIn\":\"false\"}]}},{\"time\":\"2019-07-01 00:00:01,000\", \"sessionId\":\"29371\", \"robotName\":\"ev3lejosv1\", \"logLevel\":\"INFO\", \"message\":{\"action\":\"SimulationRun\",\"args\":[{\"LoggedIn\":\"false\"}]}},{\"time\":\"2019-07-01 00:00:01,000\", \"sessionId\":\"29372\", \"robotName\":\"ev3dev\", \"logLevel\":\"INFO\", \"message\":{\"action\":\"Initialization\",\"args\":[{\"LoggedIn\":\"false\"}]}}]\n",
    "comp_list_action_user=[\"SimulationRun\",\"Initialization\"]\n",
    "robot_user_count_result={\"ev3dev\":1,\"ev3lejosv1\":1}\n",
    "list_session_id_user = {\"2937203\":[{\"time\":\"2019-07-03 00:00:02,999\", \"sessionId\":\"29372\", \"robotName\":\"ev3dev\", \"logLevel\":\"INFO\", \"message\":{\"action\":\"SimulationRun\",\"args\":[{\"LoggedIn\":\"false\"}]}},{\"time\":\"2019-07-03 00:10:02,999\", \"sessionId\":\"29372\", \"robotName\":\"ev3dev\", \"logLevel\":\"INFO\", \"message\":{\"action\":\"SimulationRun\",\"args\":[{\"LoggedIn\":\"false\"}]}}],\"2937201\":[{\"time\":\"2019-07-01 00:00:01,000\", \"sessionId\":\"29372\", \"robotName\":\"ev3dev\", \"logLevel\":\"INFO\", \"message\":{\"action\":\"Initialization\",\"args\":[{\"LoggedIn\":\"false\"}]}}],\"2937101\":[{\"time\":\"2019-07-01 00:00:01,000\", \"sessionId\":\"29371\", \"robotName\":\"ev3lejosv1\", \"logLevel\":\"INFO\", \"message\":{\"action\":\"SimulationRun\",\"args\":[{\"LoggedIn\":\"false\"}]}}]}\n",
    "stat_dict_result={\"ev3dev\":{\"SimulationRun\":[{\"time\":\"2019-07-03 00:00:02,999\", \"sessionId\":\"29372\", \"robotName\":\"ev3dev\", \"logLevel\":\"INFO\", \"message\":{\"action\":\"SimulationRun\",\"args\":[{\"LoggedIn\":\"false\"}]}},{\"time\":\"2019-07-03 00:10:02,999\", \"sessionId\":\"29372\", \"robotName\":\"ev3dev\", \"logLevel\":\"INFO\", \"message\":{\"action\":\"SimulationRun\",\"args\":[{\"LoggedIn\":\"false\"}]}}],\"Initialization\":[{\"time\":\"2019-07-01 00:00:01,000\", \"sessionId\":\"29372\", \"robotName\":\"ev3dev\", \"logLevel\":\"INFO\", \"message\":{\"action\":\"Initialization\",\"args\":[{\"LoggedIn\":\"false\"}]}}],\"other\":[]},\"ev3lejosv1\":{\"SimulationRun\":[{\"time\":\"2019-07-01 00:00:01,000\", \"sessionId\":\"29371\", \"robotName\":\"ev3lejosv1\", \"logLevel\":\"INFO\", \"message\":{\"action\":\"SimulationRun\",\"args\":[{\"LoggedIn\":\"false\"}]}}],\"Initialization\":[],\"other\":[]}}\n",
    "json_list_country=[{\"time\":\"2019-07-05 00:00:10,000\", \"sessionId\":\"293475\", \"robotName\":\"ev3lejosv1\", \"logLevel\":\"INFO\", \"message\":{\"action\":\"Initialization\",\"args\":[{\"LoggedIn\":\"false\", \"CountryCode\":\"De\"}]}},{\"time\":\"2019-07-05 00:00:00,000\", \"sessionId\":\"292375\", \"robotName\":\"ev3dev\", \"logLevel\":\"INFO\", \"message\":{\"action\":\"Initialization\",\"args\":[{\"LoggedIn\":\"false\", \"CountryCode\":\"JP\"}]}},{\"time\":\"2019-07-05 00:00:00,100\", \"sessionId\":\"293751\", \"robotName\":\"ev3lejosv1\", \"logLevel\":\"INFO\", \"message\":{\"action\":\"Initialization\",\"args\":[{\"LoggedIn\":\"false\", \"CountryCode\":\"De\"}]}}]\n",
    "country_dict_result ={\"De\":{\"ev3lejosv1\":[{\"time\":\"2019-07-05 00:00:10,000\", \"sessionId\":\"293475\", \"robotName\":\"ev3lejosv1\", \"logLevel\":\"INFO\", \"message\":{\"action\":\"Initialization\",\"args\":[{\"LoggedIn\":\"false\", \"CountryCode\":\"De\"}]}},{\"time\":\"2019-07-05 00:00:00,100\", \"sessionId\":\"293751\", \"robotName\":\"ev3lejosv1\", \"logLevel\":\"INFO\", \"message\":{\"action\":\"Initialization\",\"args\":[{\"LoggedIn\":\"false\", \"CountryCode\":\"De\"}]}}]},\"JP\":{\"ev3dev\":[{\"time\":\"2019-07-05 00:00:00,000\", \"sessionId\":\"292375\", \"robotName\":\"ev3dev\", \"logLevel\":\"INFO\", \"message\":{\"action\":\"Initialization\",\"args\":[{\"LoggedIn\":\"false\", \"CountryCode\":\"JP\"}]}}]}}"
   ]
  },
  {
   "cell_type": "code",
   "execution_count": 30,
   "metadata": {},
   "outputs": [
    {
     "name": "stderr",
     "output_type": "stream",
     "text": [
      "E\n",
      "======================================================================\n",
      "ERROR: /home/mschmickle/ (unittest.loader._FailedTest)\n",
      "----------------------------------------------------------------------\n",
      "AttributeError: module '__main__' has no attribute '/home/mschmickle/'\n",
      "\n",
      "----------------------------------------------------------------------\n",
      "Ran 1 test in 0.001s\n",
      "\n",
      "FAILED (errors=1)\n"
     ]
    },
    {
     "ename": "SystemExit",
     "evalue": "True",
     "output_type": "error",
     "traceback": [
      "An exception has occurred, use %tb to see the full traceback.\n",
      "\u001b[0;31mSystemExit\u001b[0m\u001b[0;31m:\u001b[0m True\n"
     ]
    },
    {
     "name": "stderr",
     "output_type": "stream",
     "text": [
      "/home/mschmickle/.local/lib/python3.6/site-packages/IPython/core/interactiveshell.py:3333: UserWarning: To exit: use 'exit', 'quit', or Ctrl-D.\n",
      "  warn(\"To exit: use 'exit', 'quit', or Ctrl-D.\", stacklevel=1)\n"
     ]
    }
   ],
   "source": [
    "class myTest(unittest.TestCase):\n",
    "    def test_line_validation_test(self):\n",
    "        self.assertTrue(fun.validate_line(\"{\\\"time\\\":\\\"2019-07-01 00:00:01,000\\\", \\\"sessionId\\\":\\\"2937\\\", \\\"robotName\\\":\\\"ev3lejosv1\\\", \\\"logLevel\\\":\\\"INFO\\\", \\\"message\\\":{\\\"action\\\":\\\"SimulationRun\\\",\\\"args\\\":[{\\\"LoggedIn\\\":\\\"false\\\"}]}}\")[0])\n",
    "        self.assertFalse(fun.validate_line(\"{\\\"time\\\":\\\"2019-07-01 00:00:01,000\\\", sessionId\\\":\\\"2937\\\", \\\"robotName\\\":\\\"ev3lejosv1\\\", \\\"logLevel\\\":\\\"INFO\\\", \\\"message\\\":{\\\"action\\\":\\\"SimulationRun\\\",\\\"args\\\":[{\\\"LoggedIn\\\":\\\"false\\\"}]}}\")[0])\n",
    "        self.assertFalse(fun.validate_line(\"{\\\"time\\\":\\\"2019-07-01 00:00:01,000\\\", \\\"sessionId\\\":\\\"2937\\\", \\\"robotName\\\":\\\"ev3lejosv1\\\", \\\"logLvel\\\":\\\"INFO\\\", \\\"message\\\":{\\\"action\\\":\\\"SimulationRun\\\",\\\"args\\\":[{\\\"LoggedIn\\\":\\\"false\\\"}]}}\")[0])\n",
    "\n",
    "    def test_error_dict_test(self):\n",
    "        self.assertEqual(fun.scan_input_list_actions(json_list_fehler)[1],stat_error_dict_result)\n",
    "    def test_comp_error_dict_test(self):\n",
    "        self.assertEqual(fun.filter_errors_and_sort(stat_error_dict_result),comp_stat_error_dict_result) \n",
    "    def test_list_action_test(self):\n",
    "        self.assertEqual(fun.scan_input_list_actions(json_list_actions)[0],comp_list_actions_result)\n",
    "    def test_robot_action_test(self):\n",
    "        self.assertEqual(fun.scan_robot_names_userid_country_code(json_list_user,comp_list_action_user)[3],stat_dict_result)#Funktion, Ergebnis\n",
    "    def test_robot_country_test(self):\n",
    "        self.assertEqual(fun.country_codes_sort_robot(fun.scan_robot_names_userid_country_code(json_list_country,comp_list_action_user)[1]),country_dict_result)\n",
    "    def test_robot_user_test(self):\n",
    "        self.assertEqual(fun.create_robot_specific_user_num(list_session_id_user, fun.scan_robot_names_userid_country_code(json_list_user,comp_list_action_user)[4]),robot_user_count_result)\n",
    "    def test_session_id_test(self):\n",
    "        self.assertEqual(fun.scan_robot_names_userid_country_code(json_list_user,comp_list_action_user)[0],list_session_id_user)#funktion,ergebnis\n",
    "    def test_verweildauer_test(self):\n",
    "        self.assertEqual(fun.average_stay(list_session_id_user),10)\n",
    "    def test_time_range_test(self):\n",
    "        self.assertEqual(len(fun.reading_data_for_given_period(\"Zeitspannebetrachten\",\".txt\",\"2019-07-02 00:00:00,000\",\"2019-07-04 23:59:59,9990\",True)),3)\n",
    "    \n",
    "if __name__ == \"__main__\":        \n",
    "    unittest.main()"
   ]
  },
  {
   "cell_type": "code",
   "execution_count": null,
   "metadata": {},
   "outputs": [],
   "source": []
  }
 ],
 "metadata": {
  "kernelspec": {
   "display_name": "Python 3",
   "language": "python",
   "name": "python3"
  },
  "language_info": {
   "codemirror_mode": {
    "name": "ipython",
    "version": 3
   },
   "file_extension": ".py",
   "mimetype": "text/x-python",
   "name": "python",
   "nbconvert_exporter": "python",
   "pygments_lexer": "ipython3",
   "version": "3.6.8"
  }
 },
 "nbformat": 4,
 "nbformat_minor": 2
}
