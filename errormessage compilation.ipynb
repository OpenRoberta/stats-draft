{
 "cells": [
  {
   "cell_type": "code",
   "execution_count": 1,
   "metadata": {},
   "outputs": [],
   "source": [
    "from difflib import SequenceMatcher\n",
    "import re"
   ]
  },
  {
   "cell_type": "code",
   "execution_count": 2,
   "metadata": {},
   "outputs": [],
   "source": [
    "def similarity_ratio(string_a, string_b, value):\n",
    "    return SequenceMatcher(None, string_a, string_b).ratio()>=value"
   ]
  },
  {
   "cell_type": "code",
   "execution_count": 3,
   "metadata": {},
   "outputs": [
    {
     "name": "stdout",
     "output_type": "stream",
     "text": [
      "3285328\n"
     ]
    }
   ],
   "source": [
    "INPUT_FILE =\"07.log\"\n",
    "erstmal_l=[]\n",
    "log_dict={}\n",
    "first=True\n",
    "gesamt_count=0\n",
    "with open((INPUT_FILE),\"rt\") as data_file: \n",
    "    for line in data_file:\n",
    "        erstmal_l.append(line)\n",
    "        gesamt_count=gesamt_count+1\n",
    "            \n",
    "print(gesamt_count)\n"
   ]
  },
  {
   "cell_type": "code",
   "execution_count": 4,
   "metadata": {},
   "outputs": [],
   "source": [
    "def append_or_new_list(element, key, dicti):\n",
    "    if key not in dicti:\n",
    "        dicti[key]=[]\n",
    "    dicti[key].append(element)"
   ]
  },
  {
   "cell_type": "code",
   "execution_count": 5,
   "metadata": {},
   "outputs": [
    {
     "name": "stdout",
     "output_type": "stream",
     "text": [
      "3285328\n"
     ]
    }
   ],
   "source": [
    "print(len(erstmal_l))"
   ]
  },
  {
   "cell_type": "code",
   "execution_count": 6,
   "metadata": {},
   "outputs": [
    {
     "name": "stdout",
     "output_type": "stream",
     "text": [
      "24590\n"
     ]
    }
   ],
   "source": [
    "log_dict={}\n",
    "erstmal_2=[]\n",
    "p= re.compile(\".*robot-name=\\[.*\\] (ERROR|WARN)(.*)\")#1288\n",
    "t = re.compile(\".*\\=.*(ERROR|WARN)(.*)\")#2970\n",
    "o = re.compile(\".*(ERROR|WARN)(.*)\")#2970\n",
    "i = re.compile(\".*(INFO)(.*)\")\n",
    "k= re.compile(\".{50,115}(ERROR|WARN)(.*)\")\n",
    "for line in erstmal_l: \n",
    "    \n",
    "    x=k.match(line)\n",
    "    if x:\n",
    "        erstmal_2.append(x.group(2))\n",
    "        l=x.group(1)+x.group(2)\n",
    "        append_or_new_list(l,l,log_dict)\n",
    "        \n",
    "\n",
    "        \n",
    "            \n",
    "print(len(erstmal_2))"
   ]
  },
  {
   "cell_type": "code",
   "execution_count": 7,
   "metadata": {},
   "outputs": [],
   "source": [
    "def filter_errors_and_sort(error_dict):\n",
    "    comp_stat_error_dict = {}\n",
    "    error_messages_list = []\n",
    "    t = True\n",
    "    for x in error_dict:\n",
    "        if len(error_messages_list)>0:\n",
    "            for y in error_messages_list:\n",
    "                t=True\n",
    "                if similarity_ratio(y[0],x,0.95):\n",
    "                    y.append(x)\n",
    "                    t=False\n",
    "                    break\n",
    "            if t:\n",
    "                error_messages_list.append([x])              \n",
    "        else:\n",
    "            error_messages_list.append([x])\n",
    "\n",
    "    for x in error_messages_list:\n",
    "        comp_stat_error_dict[x[0]]=[]\n",
    "        for y in x:\n",
    "            comp_stat_error_dict[x[0]].extend(error_dict[y])\n",
    "    for x in comp_stat_error_dict:\n",
    "        comp_stat_error_dict[x]=len(comp_stat_error_dict[x])\n",
    "    return comp_stat_error_dict"
   ]
  },
  {
   "cell_type": "code",
   "execution_count": 8,
   "metadata": {},
   "outputs": [],
   "source": [
    "comprehension = filter_errors_and_sort(log_dict)"
   ]
  },
  {
   "cell_type": "code",
   "execution_count": 9,
   "metadata": {},
   "outputs": [
    {
     "name": "stdout",
     "output_type": "stream",
     "text": [
      "ERROR de.fhg.iais.roberta.util.Util - when adding info for the client, an unexpected exception occurred. Some info for the client may be missing: 8368\n",
      "ERROR d.f.i.r.p.AbstractProcessor - Error. The error key is: USER_GET_ONE_ERROR_ID_OR_PASSWORD_WRONG: 3195\n",
      "ERROR d.f.i.r.j.provider.OraDataProvider - Could not evaluate the actual ip as a country code. Likely a problem with the IpToCountry file.: 2065\n",
      "ERROR d.f.i.r.r.RobotCommunicator - Token approval request for robot [02:16:53:5e:43:b2], but an old request is pending. Old request aborted.: 1293\n",
      "ERROR d.f.i.r.r.RobotCommunicator - a push request from a robot arrived, but no matching state was found in the server - we provoke a server error: 1248\n",
      "ERROR d.f.i.r.j.r.robot.RobotCommand - No valid command issued by the server as response to a push command request for token FLGHVU9Q: 1175\n",
      "ERROR d.f.i.r.r.RobotCommunicationData - RUN button pressed, but robot is not waiting for that event. Bad luck!: 737\n",
      "ERROR d.f.i.r.j.r.all.ClientProgram - Exception. Error ticket: E-162: 636\n",
      "ERROR d.f.i.r.p.AbstractProcessor - Error. The error key is: COMPILERWORKFLOW_SUCCESS: 624\n",
      "ERROR d.f.i.r.c.MbedSimCompilerWorkflow - javascript mbed simulation code generation failed: 505\n",
      "ERROR d.f.i.r.c.CalliopeCompilerWorkflow - compile calliope program NEPOprog failed with COMPILERWORKFLOW_ERROR_PROGRAM_COMPILE_FAILED: 417\n",
      "ERROR d.f.i.r.p.AbstractProcessor - Error. The error key is: USER_CREATE_ERROR_NOT_SAVED_TO_DB: 403\n",
      "ERROR d.f.i.r.j.r.all.ClientProgram - Unauthorized: 339\n",
      "ERROR d.f.i.r.j.r.all.ClientUser - Invalid command: login: 331\n",
      "ERROR d.f.i.r.p.AbstractProcessor - Error. The error key is: PROGRAM_SAVE_AS_ERROR_PROGRAM_EXISTS: 204\n",
      "ERROR d.f.i.r.j.r.robot.RobotCommand - No valid command issued by the server as response to a push command request for token 9NJP7YH4: 204\n",
      "ERROR d.f.i.r.r.RobotCommunicator - Token approval request for robot [74-DA-38-8A-D4-05], but an old request is pending. Old request aborted.: 182\n",
      "ERROR d.f.i.r.t.BlocklyProgramAndConfigTransformer - Generation of the configuration failed: 178\n",
      "ERROR d.f.i.r.r.RobotCommunicator - Token approval request for robot [0:16:53:e:ffffffbf:ffffffe9:0], but an old request is pending. Old request aborted.: 155\n",
      "ERROR d.f.i.r.p.AbstractProcessor - Error. The error key is: USER_ERROR_NOT_LOGGED_IN: 150\n",
      "ERROR d.f.i.r.c.Ev3LejosCompilerWorkflow - build exception. Messages from the build script are:: 137\n",
      "ERROR d.f.i.r.p.AbstractProcessor - Error. The error key is: USER_ERROR_EMAIL_USED: 117\n",
      "ERROR d.f.i.r.r.RobotCommunicationData - Robot has sent a push request not awaited for. Programming error: Logic or Time race? The request is ACCEPTED. State is ROBOT_WAITING_FOR_PUSH_FROM_SERVER. The state setting request was scheduled 0 secs ago. : 110\n",
      "ERROR d.f.i.r.j.r.robot.RobotCommand - No valid command issued by the server as response to a push command request for token QXZ2I9C9: 106\n",
      "ERROR d.f.i.r.p.AbstractProcessor - Error. The error key is: PROGRAM_GET_ONE_ERROR_NOT_FOUND: 98\n",
      "ERROR d.f.i.r.p.AbstractProcessor - Error. The error key is: USER_ACTIVATION_SENT_MAIL_FAIL: 97\n",
      "ERROR d.f.i.r.r.RobotCommunicator - Token approval request for robot [0:16:53:7:7a:ffffff88:0], but an old request is pending. Old request aborted.: 80\n",
      "ERROR d.f.i.r.persistence.dao.ProgramDao - update was requested, timestamps don't match. Has another user updated the program in the meantime?: 79\n",
      "ERROR d.f.i.r.p.AbstractProcessor - Error. The error key is: PROGRAM_SAVE_ERROR_OPTIMISTIC_TIMESTAMP_LOCKING: 79\n",
      "ERROR d.f.i.r.j.r.all.ClientConfiguration - Invalid command: loadCN: 78\n",
      "ERROR d.f.i.r.p.AbstractProcessor - error message missing. Returning server error.: 60\n",
      "ERROR d.f.i.r.c.CalliopeCompilerWorkflow - arduino c++ code generation failed: 56\n",
      "ERROR d.f.i.r.p.AbstractProcessor - Error. The error key is: USER_EMAIL_ONE_ERROR_USER_NOT_EXISTS_WITH_THIS_EMAIL: 53\n",
      "ERROR d.f.i.r.c.Ev3SimCompilerWorkflow - javascript ev3 simulation code generation failed: 49\n",
      "ERROR d.f.i.r.p.AbstractProcessor - Error. The error key is: USER_PASSWORD_RECOVERY_SENT_MAIL_FAIL: 48\n",
      "ERROR d.f.i.r.j.r.robot.RobotCommand - No valid command issued by the server as response to a push command request for token IRY1WS3Z: 44\n",
      "ERROR d.f.i.r.p.AbstractProcessor - Error. The error key is: USER_UPDATE_ERROR_ACCOUNT_WRONG: 43\n",
      "ERROR d.f.i.r.j.r.all.ClientAdmin - Invalid command: setRobot setting robot name to ev3lejos: 43\n",
      "ERROR d.f.i.r.t.BlocklyProgramAndConfigTransformer - Transformer failed: 40\n",
      "WARN o.e.jetty.server.ResourceService - EXCEPTION : 40\n",
      "ERROR d.f.i.r.r.RobotCommunicator - Token approval request for robot [0:0:0:0:0:0:0], but an old request is pending. Old request aborted.: 40\n",
      "ERROR d.f.i.r.j.r.robot.RobotCommand - No valid command issued by the server as response to a push command request for token EDXGB6JT: 39\n",
      "ERROR d.f.i.r.c.CalliopeCompilerWorkflow - compile calliope program Vorwärts failed with COMPILERWORKFLOW_ERROR_PROGRAM_COMPILE_FAILED: 39\n",
      "ERROR d.f.i.r.j.r.robot.RobotCommand - No valid command issued by the server as response to a push command request for token W25VLJA2: 38\n",
      "ERROR d.f.i.r.r.RobotCommunicator - Token approval request for robot [00-0F-00-B9-61-78], but an old request is pending. Old request aborted.: 28\n",
      "ERROR d.f.i.r.c.Ev3LejosCompilerWorkflow - ev3lejos java code generation failed: 28\n",
      "ERROR d.f.i.r.codegen.MbotCompilerWorkflow - compile botnroll program NEPOprog successful: 28\n",
      "ERROR d.f.i.r.p.AbstractProcessor - Error. The error key is: COMPILERWORKFLOW_ERROR_PROGRAM_GENERATION_FAILED: 25\n",
      "ERROR d.f.i.r.r.RobotCommunicator - Token approval request for robot [50-3E-AA-81-41-B0], but an old request is pending. Old request aborted.: 24\n",
      "ERROR d.f.i.r.j.r.all.ClientUser - Invalid command: getUser: 22\n",
      "ERROR d.f.i.r.r.RobotCommunicator - Token approval request for robot [0:16:53:13:ffffffe7:ffffffb0:0], but an old request is pending. Old request aborted.: 21\n",
      "ERROR d.fhg.iais.roberta.util.ClientLogger - the request JSONObject has either no 'log' property or its value is no JSONArray: 21\n",
      "ERROR d.f.i.r.c.CalliopeCompilerWorkflow - compile calliope program Hartinghochhinaus failed with COMPILERWORKFLOW_ERROR_PROGRAM_COMPILE_FAILED: 18\n",
      "ERROR d.f.i.r.j.p.JAXBProviderFactory - marshaller not valid for type com.sun.research.ws.wadl.Application: 17\n",
      "ERROR d.f.i.r.r.RobotCommunicator - Token approval request for robot [0:16:53:10:7c:66:0], but an old request is pending. Old request aborted.: 15\n",
      "ERROR d.f.i.r.p.AbstractProcessor - Error. The error key is: USER_ACTIVATION_INVALID_URL: 15\n",
      "ERROR d.f.i.r.codegen.NxtCompilerWorkflow - compile nxt program TestFunkci failed with COMPILERWORKFLOW_ERROR_PROGRAM_COMPILE_FAILED: 15\n",
      "ERROR d.f.i.r.p.AbstractProcessor - Error. The error key is: COMPILERWORKFLOW_ERROR_PROGRAM_TRANSFORM_FAILED: 15\n",
      "ERROR d.f.i.r.j.r.robot.RobotCommand - No valid command issued by the server as response to a push command request for token MU3LCKZS: 13\n",
      "ERROR d.f.i.r.j.r.r.RobotDownloadProgram - unsupported firmware name Arduino: 12\n",
      "ERROR d.f.i.r.p.AbstractProcessor - Error. The error key is: USER_DELETE_ERROR_ID_NOT_FOUND: 11\n",
      "ERROR d.f.i.r.r.RobotCommunicator - Token approval request for robot [0.121.99], but an old request is pending. Old request aborted.: 10\n",
      "ERROR d.f.i.r.p.AbstractProcessor - Error. The error key is: LIKE_SAVE_ERROR_EXISTS: 9\n",
      "ERROR d.f.i.r.codegen.NxtCompilerWorkflow - compile nxt program NEPOprog failed with COMPILERWORKFLOW_ERROR_PROGRAM_COMPILE_FAILED: 9\n",
      "WARN o.e.jetty.server.InclusiveByteRange - Bad range format: bytes: 0-22: 8\n",
      "ERROR d.f.i.r.c.SenseboxCompilerWorkflow - compile arduino program NEPOprog failed with COMPILERWORKFLOW_ERROR_PROGRAM_COMPILE_FAILED: 8\n",
      "ERROR d.f.i.r.codegen.Bob3CompilerWorkflow - bob3 c++ code generation failed: 8\n",
      "ERROR d.f.i.r.j.r.robot.RobotCommand - No valid command issued by the server as response to a push command request for token HWHPF4NM: 8\n",
      "ERROR d.f.i.r.r.RobotCommunicator - Token approval request for robot [48-A9-D2-96-97-8D], but an old request is pending. Old request aborted.: 7\n",
      "ERROR d.f.i.r.c.Ev3DevCompilerWorkflow - ev3dev code generation failed: 7\n",
      "WARN d.f.i.r.j.r.all.ClientProgram - Ardu to botnroll renaming on import should be removed in future.: 7\n",
      "ERROR d.f.i.r.codegen.NxtCompilerWorkflow - nxt code generation failed: 6\n",
      "ERROR d.f.i.r.c.CalliopeCompilerWorkflow - compile calliope program RoboterGeradeAus failed with COMPILERWORKFLOW_ERROR_PROGRAM_COMPILE_FAILED: 6\n",
      "ERROR d.f.i.r.c.CalliopeCompilerWorkflow - compile calliope program SchereSteinPapier failed with COMPILERWORKFLOW_ERROR_PROGRAM_COMPILE_FAILED: 6\n",
      "WARN org.eclipse.jetty.server.HttpChannel - /rest/program: 5\n",
      "ERROR d.f.i.r.p.AbstractProcessor - Error. The error key is: USER_PASSWORD_RECOVERY_INVALID_URL: 5\n",
      "ERROR d.f.i.r.p.AbstractProcessor - Error. The error key is: PROGRAM_DELETE_ERROR: 5\n",
      "ERROR d.f.i.r.j.r.robot.RobotCommand - No valid command issued by the server as response to a push command request for token 8T458P8E: 5\n",
      "ERROR d.f.i.r.r.RobotCommunicationData - UPDATE button pressed, but the robot is not waiting. Bad luck!: 5\n",
      "ERROR d.f.i.r.p.AbstractProcessor - Error. The error key is: PROGRAM_SAVE_ERROR_PROGRAM_TO_UPDATE_NOT_FOUND: 5\n",
      "ERROR d.f.i.r.c.CalliopeCompilerWorkflow - compile calliope program FlappyBird failed with COMPILERWORKFLOW_ERROR_PROGRAM_COMPILE_FAILED: 5\n",
      "ERROR d.f.i.r.j.r.robot.RobotCommand - No valid command issued by the server as response to a push command request for token 5RBM8M9X: 5\n",
      "ERROR d.f.i.r.c.CalliopeCompilerWorkflow - compile calliope program kkkkkk failed with COMPILERWORKFLOW_ERROR_PROGRAM_COMPILE_FAILED: 5\n",
      "ERROR d.f.i.r.j.r.robot.RobotCommand - No valid command issued by the server as response to a push command request for token AUYQV1RR: 5\n",
      "ERROR d.f.i.r.j.r.all.ClientAdmin - Exception. Error ticket: E-416: 5\n",
      "WARN org.eclipse.jetty.util.URIUtil - /%C0.%C0./%C0.%C0./%C0.%C0./%C0.%C0./%C0.%C0./windows/win.ini org.eclipse.jetty.util.Utf8Appendable$NotUtf8Exception: Not valid UTF8! byte C0 in state 0: 4\n",
      "ERROR d.f.i.r.c.CalliopeCompilerWorkflow - compile calliope program ChromeJump failed with COMPILERWORKFLOW_ERROR_PROGRAM_COMPILE_FAILED: 4\n",
      "ERROR d.f.i.r.p.AbstractProcessor - Error. The error key is: USER_TO_SHARE_DOES_NOT_EXIST: 4\n",
      "ERROR d.f.i.r.c.CalliopeCompilerWorkflow - compile calliope program Blumenpflegestation failed with COMPILERWORKFLOW_ERROR_PROGRAM_COMPILE_FAILED: 4\n",
      "ERROR d.f.i.r.c.AbstractCompilerWorkflow - Storing the generated program NEPOprog into directory SDKPP4B8 failed: 3\n",
      "ERROR d.f.i.r.c.CalliopeCompilerWorkflow - compile calliope program LaufendeBilder failed with COMPILERWORKFLOW_ERROR_PROGRAM_COMPILE_FAILED: 3\n",
      "WARN org.eclipse.jetty.server.HttpChannel - /: 3\n",
      "ERROR d.f.i.r.c.AbstractCompilerWorkflow - could not write source code to file system: 3\n",
      "ERROR d.f.i.r.c.AbstractCompilerWorkflow - Storing the generated program neuestessssssssssssssssssssssssssssssssssssssssssssssssssssssssssssssssssssssssssssssssssssssssssssssssssssssssssssssssssssssssssssssssssssssssssssssssssssssssssssssssssssssssssssssssssssssssssssssssssssssssssssssssssssssssssssssssssssssssssssssssssssssss into directory 00HXW8_tc-_j failed: 3\n",
      "ERROR d.f.i.r.c.CalliopeCompilerWorkflow - compile calliope program neuestessssssssssssssssssssssssssssssssssssssssssssssssssssssssssssssssssssssssssssssssssssssssssssssssssssssssssssssssssssssssssssssssssssssssssssssssssssssssssssssssssssssssssssssssssssssssssssssssssssssssssssssssssssssssssssssssssssssssssssssssssssssss failed with COMPILERWORKFLOW_ERROR_PROGRAM_COMPILE_FAILED: 3\n",
      "ERROR d.f.i.r.codegen.MbotCompilerWorkflow - botnroll c++ code generation failed: 3\n",
      "ERROR d.f.i.r.c.CalliopeCompilerWorkflow - compile calliope program Klatsch_An__Klatsch_Aus failed with COMPILERWORKFLOW_ERROR_PROGRAM_COMPILE_FAILED: 3\n",
      "ERROR d.f.i.r.codegen.NxtCompilerWorkflow - compile nxt program sonda_detektor_zvuku_final failed with COMPILERWORKFLOW_ERROR_PROGRAM_COMPILE_FAILED: 3\n",
      "ERROR d.f.i.r.c.CalliopeCompilerWorkflow - compile calliope program roboter7f_quadrat_a failed with COMPILERWORKFLOW_ERROR_PROGRAM_COMPILE_FAILED: 3\n",
      "ERROR d.f.i.r.c.CalliopeCompilerWorkflow - compile calliope program RR_clever_geradeaus failed with COMPILERWORKFLOW_ERROR_PROGRAM_COMPILE_FAILED: 3\n",
      "WARN o.h.e.jdbc.spi.SqlExceptionHelper - SQL Error: 3401, SQLState: 22001: 2\n",
      "ERROR o.h.e.jdbc.spi.SqlExceptionHelper - data exception: string data, right truncation;  table: PROGRAM column: NAME: 2\n",
      "WARN o.e.j.server.handler.ContextHandler - o.e.j.s.ServletContextHandler@65e4eba5{/,null,UNAVAILABLE} contextPath ends with /*: 2\n",
      "WARN o.e.j.server.handler.ContextHandler - Empty contextPath: 2\n",
      "ERROR d.f.i.r.c.CalliopeCompilerWorkflow - compile calliope program ampel_funktion failed with COMPILERWORKFLOW_ERROR_PROGRAM_COMPILE_FAILED: 2\n",
      "ERROR d.f.i.r.j.r.r.RobotDownloadProgram - unsupported firmware name robot-mockup: 2\n",
      "ERROR d.f.i.r.p.AbstractProcessor - Error. The error key is: PROGRAM_ERROR_ID_INVALID: 2\n",
      "ERROR d.f.i.r.c.CalliopeCompilerWorkflow - compile calliope program Alarmanlage failed with COMPILERWORKFLOW_ERROR_PROGRAM_COMPILE_FAILED: 2\n",
      "WARN org.eclipse.jetty.util.URIUtil - /%80../%80../%80../%80../%80../%80../windows/win.ini org.eclipse.jetty.util.Utf8Appendable$NotUtf8Exception: Not valid UTF8! byte 80 in state 0: 2\n",
      "ERROR d.f.i.r.c.CalliopeCompilerWorkflow - compile calliope program Zufallsgenerator failed with COMPILERWORKFLOW_ERROR_PROGRAM_COMPILE_FAILED: 2\n",
      "ERROR d.f.i.r.r.RobotCommunicationData - Robot has sent a push request not awaited for. Programming error: Logic or Time race? The request is ACCEPTED. State is ROBOT_WAITING_FOR_PUSH_FROM_SERVER. The state setting request was scheduled 11 secs ago. : 1\n",
      "ERROR d.f.i.r.c.AbstractCompilerWorkflow - Storing the generated program NEPOprog into directory PBHZTJLW failed: 1\n",
      "ERROR d.f.i.r.p.AbstractProcessor - Error. The error key is: CONFIGURATION_ERROR_ID_INVALID: 1\n",
      "ERROR d.f.i.r.r.RobotCommunicator - Token approval request for robot [7C-DD-90-79-E1-6A], but an old request is pending. Old request aborted.: 1\n",
      "WARN org.eclipse.jetty.http.HttpParser - Illegal character 0x16 in state=START for buffer HeapByteBuffer@72996584[p=1,l=212,c=8192,r=211]={\\x16<<<\\x03\\x01\\x00\\xCf\\x01\\x00\\x00\\xCb\\x03\\x03\\xAcxn\\xF7)n\\t...\\x02\\x04\\x03\\x03\\x01\\x03\\x02\\x03\\x03\\x02\\x01\\x02\\x02\\x02\\x03>>>Type: application...X\\\\\" intask=\\\\\"tr}: 1\n",
      "ERROR d.f.i.r.c.CalliopeCompilerWorkflow - compile calliope program HeisssssssserDraht failed with COMPILERWORKFLOW_ERROR_PROGRAM_COMPILE_FAILED: 1\n",
      "ERROR d.f.i.r.c.CalliopeCompilerWorkflow - compile calliope program SensorenServosFunk_Fuer_Schulen_von_AndreHolzhey failed with COMPILERWORKFLOW_ERROR_PROGRAM_COMPILE_FAILED: 1\n",
      "ERROR d.f.i.r.r.RobotCommunicator - Token approval request for robot [00-0C-43-45-E9-D7], but an old request is pending. Old request aborted.: 1\n",
      "ERROR d.f.i.r.c.CalliopeCompilerWorkflow - compile calliope program RGBFarbverlauf failed with COMPILERWORKFLOW_ERROR_PROGRAM_COMPILE_FAILED: 1\n",
      "ERROR d.f.i.r.c.CalliopeCompilerWorkflow - compile calliope program Lichtwecker1 failed with COMPILERWORKFLOW_ERROR_PROGRAM_COMPILE_FAILED: 1\n",
      "ERROR d.f.i.r.j.r.all.ClientAdmin - Invalid command: setRobot setting robot name to mBot: 1\n",
      "ERROR de.fhg.iais.roberta.util.Statistics - Logging statistics failed for: Initialization: 1\n",
      "ERROR d.f.i.r.f.BlocklyDropdownFactory - Sensor TOUCH could not be created: 1\n",
      "ERROR d.f.i.r.j.r.r.RobotDownloadProgram - upload error: directory 'source' containing file to upload to robot not found.: 1\n",
      "ERROR d.f.i.r.codegen.Bob3CompilerWorkflow - Exit code 1: 1\n",
      "ERROR d.f.i.r.codegen.Bob3CompilerWorkflow - compile bob3 program NEPOprog failed with COMPILERWORKFLOW_ERROR_PROGRAM_COMPILE_FAILED: 1\n",
      "ERROR d.f.i.r.c.CalliopeCompilerWorkflow - compile calliope program JonaEiV01 failed with COMPILERWORKFLOW_ERROR_PROGRAM_COMPILE_FAILED: 1\n"
     ]
    }
   ],
   "source": [
    "\n",
    "for key, value in sorted(comprehension.items(),reverse=True, key=lambda item: item[1]):\n",
    "    print(\"%s: %s\" % (key, value))\n",
    "\n"
   ]
  },
  {
   "cell_type": "code",
   "execution_count": null,
   "metadata": {},
   "outputs": [],
   "source": []
  }
 ],
 "metadata": {
  "kernelspec": {
   "display_name": "Python 3",
   "language": "python",
   "name": "python3"
  },
  "language_info": {
   "codemirror_mode": {
    "name": "ipython",
    "version": 3
   },
   "file_extension": ".py",
   "mimetype": "text/x-python",
   "name": "python",
   "nbconvert_exporter": "python",
   "pygments_lexer": "ipython3",
   "version": "3.6.8"
  }
 },
 "nbformat": 4,
 "nbformat_minor": 2
}
