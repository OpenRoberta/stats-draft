{
 "cells": [
  {
   "cell_type": "markdown",
   "metadata": {},
   "source": [
    "# Cleaning and analysis of the given data"
   ]
  },
  {
   "cell_type": "markdown",
   "metadata": {},
   "source": [
    "#### Imports"
   ]
  },
  {
   "cell_type": "code",
   "execution_count": 91,
   "metadata": {},
   "outputs": [],
   "source": [
    "import re\n",
    "import json\n",
    "import csv"
   ]
  },
  {
   "cell_type": "markdown",
   "metadata": {},
   "source": [
    "#### Variables"
   ]
  },
  {
   "cell_type": "code",
   "execution_count": 92,
   "metadata": {},
   "outputs": [],
   "source": [
    "json_list = []\n",
    "DATA_NAME = 'stat-2019-06.txt'"
   ]
  },
  {
   "cell_type": "markdown",
   "metadata": {},
   "source": [
    "#### Functions"
   ]
  },
  {
   "cell_type": "code",
   "execution_count": 93,
   "metadata": {},
   "outputs": [],
   "source": [
    "def check_bracket(json_string):\n",
    "    counter, counter2, counter3 = 0, 0, 0\n",
    "    counter += json_string.count(\"{\")\n",
    "    counter -= json_string.count(\"}\")\n",
    "    counter2 += json_string.count(\"[\")\n",
    "    counter2 -= json_string.count(\"]\")\n",
    "    counter3 += json_string.count(\"(\")\n",
    "    counter3 -= json_string.count(\")\")\n",
    "    if counter == 0 and counter2==0 and counter3 == 0:\n",
    "        return True\n",
    "    print(\"SyntaxError: Bracket\")\n",
    "    return False\n",
    "\n",
    "def check_syntax(json_string):\n",
    "    try:\n",
    "        json_str = json.loads(json_string)\n",
    "        return True\n",
    "    except:\n",
    "        print(\"SyntaxError\")\n",
    "        return False\n",
    "\n",
    "def check_elements(json_string):\n",
    "    if json_string.find(\"\\\", \\\"sessionId\\\":\\\"\")>=0:\n",
    "        if json_string.find(\"\\\", \\\"robotName\\\":\\\"\") >=0:\n",
    "            if json_string.find(\"\\\", \\\"logLevel\\\":\\\"\")>=0:\n",
    "                if json_string.find(\"\\\", \\\"message\\\":\")>=0:\n",
    "                    return True\n",
    "    print(\"Error: Element is missing or broken\")\n",
    "    return False\n",
    "\n",
    "def validate_line(line):\n",
    "    data_group = re.search(\"({.*})\",line)\n",
    "    try:\n",
    "        json_string = data_group.group()\n",
    "    except:\n",
    "        return False, \"o\"\n",
    "    if data_group and check_bracket(json_string) and check_syntax(json_string) and check_elements(json_string):\n",
    "        json_dict = json.loads(data_group.group())\n",
    "        return True, json_dict\n",
    "    return False, \"o\""
   ]
  },
  {
   "cell_type": "markdown",
   "metadata": {},
   "source": [
    "## Reading of every usefull piece of data"
   ]
  },
  {
   "cell_type": "code",
   "execution_count": 94,
   "metadata": {
    "scrolled": true
   },
   "outputs": [],
   "source": [
    "with open(DATA_NAME,\"rt\") as data_file: \n",
    "    for line in data_file:\n",
    "        if validate_line(line)[0]:\n",
    "            json_list.append(validate_line(line)[1])\n"
   ]
  },
  {
   "cell_type": "markdown",
   "metadata": {},
   "source": [
    "## Analysis "
   ]
  },
  {
   "cell_type": "markdown",
   "metadata": {},
   "source": [
    "#### Variables"
   ]
  },
  {
   "cell_type": "code",
   "execution_count": 95,
   "metadata": {},
   "outputs": [],
   "source": [
    "list_actions = []\n",
    "simulations = 0\n",
    "robot_count = []\n",
    "robot_names = []\n",
    "stat_dict = {}"
   ]
  },
  {
   "cell_type": "markdown",
   "metadata": {},
   "source": [
    "#### Create a dictionary sorted by robotName"
   ]
  },
  {
   "cell_type": "code",
   "execution_count": 96,
   "metadata": {},
   "outputs": [],
   "source": [
    "for element in json_list:\n",
    "    if type(element[\"message\"]) is dict and element[\"message\"][\"action\"]:\n",
    "        if element[\"message\"][\"action\"] not in list_actions:\n",
    "            list_actions.append(element[\"message\"][\"action\"])\n",
    "\n",
    "\n",
    "\n",
    "for element in json_list:\n",
    "    if element[\"robotName\"] not in robot_names:\n",
    "        robot_names.append(element[\"robotName\"])\n",
    "        stat_dict[element[\"robotName\"]]={}\n",
    "        for action in list_actions:\n",
    "            stat_dict[element[\"robotName\"]][action]=[]\n",
    "        stat_dict[element[\"robotName\"]][\"other\"]=[] \n",
    "    try:\n",
    "        stat_dict[element[\"robotName\"]][element[\"message\"][\"action\"]].append(element)\n",
    "    except:\n",
    "        stat_dict[element[\"robotName\"]][\"other\"].append(element)\n",
    "                       \n",
    "\n"
   ]
  },
  {
   "cell_type": "markdown",
   "metadata": {},
   "source": [
    "## Write CSV File"
   ]
  },
  {
   "cell_type": "code",
   "execution_count": 97,
   "metadata": {},
   "outputs": [],
   "source": [
    "with open('stat_analysis_new.csv','w', newline='') as file:\n",
    "    writer = csv.writer(file)\n",
    "    writer.writerow([\"\"]+robot_names)\n",
    "    for action in list_actions:\n",
    "        action_count_list = []\n",
    "        action_count_list.append(action)\n",
    "        for i in robot_names:\n",
    "            action_count_list.append(len(stat_dict[i][action]))\n",
    "        writer.writerow(action_count_list)\n",
    "\n",
    "    "
   ]
  }
 ],
 "metadata": {
  "kernelspec": {
   "display_name": "Python 3",
   "language": "python",
   "name": "python3"
  },
  "language_info": {
   "codemirror_mode": {
    "name": "ipython",
    "version": 3
   },
   "file_extension": ".py",
   "mimetype": "text/x-python",
   "name": "python",
   "nbconvert_exporter": "python",
   "pygments_lexer": "ipython3",
   "version": "3.6.8"
  }
 },
 "nbformat": 4,
 "nbformat_minor": 2
}
