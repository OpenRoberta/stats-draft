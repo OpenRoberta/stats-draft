{
 "cells": [
  {
   "cell_type": "code",
   "execution_count": 22,
   "metadata": {},
   "outputs": [
    {
     "name": "stdout",
     "output_type": "stream",
     "text": [
      "schlechts Element klammer \n",
      "schlechts Element klammer \n",
      "schlechts Element klammer \n",
      "schlechts Element klammer \n",
      "schlechts Element klammer \n",
      "schlechts Element klammer \n",
      "schlechts Element klammer \n",
      "schlechts Element klammer \n",
      "schlechts Element klammer \n",
      "schlechts Element klammer \n",
      "schlechts Element klammer \n",
      "Schlechtes Element \"\n",
      "schlechts Element klammer \n",
      "schlechts Element klammer \n",
      "schlechts Element klammer \n",
      "schlechts Element klammer \n",
      "schlechts Element klammer \n",
      "schlechts Element klammer \n",
      "schlechts Element klammer \n",
      "schlechts Element klammer \n",
      "Schlechtes Element json syntax\n",
      "schlechts Element klammer \n",
      "schlechts Element klammer \n",
      "schlechts Element klammer \n",
      "schlechts Element klammer \n",
      "schlechts Element klammer \n",
      "schlechts Element klammer \n",
      "schlechts Element klammer \n",
      "schlechts Element klammer \n",
      "schlechts Element klammer \n",
      "finish\n"
     ]
    }
   ],
   "source": [
    "import re\n",
    "import ast\n",
    "list_raw = []\n",
    "list_clean = []\n",
    "data_name = \"stat-2019-03.txt\" #import data\n",
    "\n",
    "def check_bracket(str):\n",
    "    counter = 0\n",
    "    counter2 = 0\n",
    "    counter3 =0\n",
    "    counter += str.count(\"{\")\n",
    "    counter -= str.count(\"}\")\n",
    "    counter2 += str.count(\"[\")\n",
    "    counter2 -= str.count(\"]\")\n",
    "    counter3 += str.count(\"(\")\n",
    "    counter3 -= str.count(\")\")\n",
    "    \n",
    "    if counter == 0 and counter2==0 and counter3 == 0:\n",
    "        return True\n",
    "    print(\"schlechts Element klammer \")\n",
    "    return False\n",
    "\n",
    "def check_coreelements(str):\n",
    "    if str.find(\"\\\", \\\"sessionId\\\":\\\"\")>=0:\n",
    "        if str.find(\"\\\", \\\"robotName\\\":\\\"\") >=0:\n",
    "            if str.find(\"\\\", \\\"logLevel\\\":\\\"\")>=0:\n",
    "                if str.find(\"\\\", \\\"message\\\":\")>=0:\n",
    "                    return True\n",
    "    print(\"Schlechtes Element \\\"\")\n",
    "    return False\n",
    "\n",
    "def check_correctjson(str):\n",
    "    try:\n",
    "        json_str = ast.literal_eval(str)\n",
    "        return True\n",
    "    except:\n",
    "        print(\"Schlechtes Element json syntax\")\n",
    "        return False\n",
    "    \n",
    "            \n",
    "    \n",
    "with open(data_name,\"rt\") as data_file: #remove unnecessary plain text between JSON data\n",
    "    for line in data_file:\n",
    "        ab=re.search(\"({.*})\",line)\n",
    "        if ab and check_bracket(ab.group()) and check_coreelements(ab.group()) and check_correctjson(ab.group()):\n",
    "            list_clean.append(ab.group())\n",
    "with open(data_name[:len(data_name)-4]+\"_clean.txt\",\"w\") as new_data_file: #write JSON data in a new File\n",
    "    for x in list_clean:\n",
    "        new_data_file.write(x+\"\\n\")\n",
    "print(\"finish\")"
   ]
  },
  {
   "cell_type": "code",
   "execution_count": null,
   "metadata": {},
   "outputs": [],
   "source": []
  }
 ],
 "metadata": {
  "kernelspec": {
   "display_name": "Python 3",
   "language": "python",
   "name": "python3"
  },
  "language_info": {
   "codemirror_mode": {
    "name": "ipython",
    "version": 3
   },
   "file_extension": ".py",
   "mimetype": "text/x-python",
   "name": "python",
   "nbconvert_exporter": "python",
   "pygments_lexer": "ipython3",
   "version": "3.6.8"
  }
 },
 "nbformat": 4,
 "nbformat_minor": 2
}
