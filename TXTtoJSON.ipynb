{
 "cells": [
  {
   "cell_type": "code",
   "execution_count": null,
   "metadata": {},
   "outputs": [],
   "source": [
    "Clean textfiles by removing useless data surrounding JSON data"
   ]
  },
  {
   "cell_type": "code",
   "execution_count": 12,
   "metadata": {},
   "outputs": [
    {
     "name": "stdout",
     "output_type": "stream",
     "text": [
      "finish\n"
     ]
    }
   ],
   "source": [
    "import re\n",
    "list_raw = []\n",
    "list_clean = []\n",
    "data_name = \"stat-2018-12.txt\" #import data\n",
    "with open(data_name,\"rt\") as data_file: #remove unnecessary plain text between JSON data\n",
    "    for line in data_file:\n",
    "        ab=re.search(\"({.*})\",line)\n",
    "        if ab:\n",
    "            list_clean.append(ab.group())\n",
    "with open(data_name[:len(data_name)-4]+\"_clean.txt\",\"w\") as new_data_file: #write JSON data in a new File\n",
    "    for x in list_clean:\n",
    "        new_data_file.write(x+\"\\n\")\n",
    "print(\"finish\")"
   ]
  }
 ],
 "metadata": {
  "kernelspec": {
   "display_name": "Python 3",
   "language": "python",
   "name": "python3"
  },
  "language_info": {
   "codemirror_mode": {
    "name": "ipython",
    "version": 2
   },
   "file_extension": ".py",
   "mimetype": "text/x-python",
   "name": "python",
   "nbconvert_exporter": "python",
   "pygments_lexer": "ipython2",
   "version": "2.7.15+"
  }
 },
 "nbformat": 4,
 "nbformat_minor": 2
}
